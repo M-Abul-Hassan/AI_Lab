# create arry of 5x5 matrix
import numpy as np 

print("The type of array using type {type(A)}")


